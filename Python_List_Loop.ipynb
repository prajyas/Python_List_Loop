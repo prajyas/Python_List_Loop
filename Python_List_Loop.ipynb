{
 "cells": [
  {
   "cell_type": "code",
   "execution_count": 2,
   "metadata": {},
   "outputs": [],
   "source": [
    "# Q 1\n",
    "# #Write a program which will find all such numbers which are divisible by 7 but are not a multiple\n",
    "# of 5, between 2000 and 3200 (both included). The numbers obtained should be printed in a\n",
    "# comma-separated sequence on a single line."
   ]
  },
  {
   "cell_type": "code",
   "execution_count": 3,
   "metadata": {},
   "outputs": [
    {
     "name": "stdout",
     "output_type": "stream",
     "text": [
      "[2002, 2009, 2016, 2023, 2037, 2044, 2051, 2058, 2072, 2079, 2086, 2093, 2107, 2114, 2121, 2128, 2142, 2149, 2156, 2163, 2177, 2184, 2191, 2198, 2212, 2219, 2226, 2233, 2247, 2254, 2261, 2268, 2282, 2289, 2296, 2303, 2317, 2324, 2331, 2338, 2352, 2359, 2366, 2373, 2387, 2394, 2401, 2408, 2422, 2429, 2436, 2443, 2457, 2464, 2471, 2478, 2492, 2499, 2506, 2513, 2527, 2534, 2541, 2548, 2562, 2569, 2576, 2583, 2597, 2604, 2611, 2618, 2632, 2639, 2646, 2653, 2667, 2674, 2681, 2688, 2702, 2709, 2716, 2723, 2737, 2744, 2751, 2758, 2772, 2779, 2786, 2793, 2807, 2814, 2821, 2828, 2842, 2849, 2856, 2863, 2877, 2884, 2891, 2898, 2912, 2919, 2926, 2933, 2947, 2954, 2961, 2968, 2982, 2989, 2996, 3003, 3017, 3024, 3031, 3038, 3052, 3059, 3066, 3073, 3087, 3094, 3101, 3108, 3122, 3129, 3136, 3143, 3157, 3164, 3171, 3178, 3192, 3199]\n"
     ]
    }
   ],
   "source": [
    "x = []\n",
    "for num in range(2000,3201):\n",
    "    if num % 7 == 0 and num % 5 != 0:\n",
    "        x.append(num)\n",
    "print(x)"
   ]
  },
  {
   "cell_type": "code",
   "execution_count": 4,
   "metadata": {},
   "outputs": [],
   "source": [
    "# Q 2\n",
    "# Write a Python program to accept the user's first and last name and then getting them printed in\n",
    "# the the reverse order with a space between first name and last name."
   ]
  },
  {
   "cell_type": "code",
   "execution_count": 6,
   "metadata": {},
   "outputs": [
    {
     "name": "stdin",
     "output_type": "stream",
     "text": [
      "What is your full name(firstname lastname)? yashwant prajapati\n"
     ]
    },
    {
     "name": "stdout",
     "output_type": "stream",
     "text": [
      "prajapati yashwant\n"
     ]
    }
   ],
   "source": [
    "Name = input(\"What is your full name(firstname lastname)?\")\n",
    "nm = Name.split()\n",
    "print(nm[1] + ' ' + nm[0])"
   ]
  },
  {
   "cell_type": "code",
   "execution_count": 7,
   "metadata": {},
   "outputs": [],
   "source": [
    "# Q 3\n",
    "# Write a Python program to find the volume of a sphere with diameter 12 cm.\n",
    "# Formula: V=4/3 * π * r 3"
   ]
  },
  {
   "cell_type": "code",
   "execution_count": 8,
   "metadata": {},
   "outputs": [
    {
     "data": {
      "text/plain": [
       "904.3199999999999"
      ]
     },
     "execution_count": 8,
     "metadata": {},
     "output_type": "execute_result"
    }
   ],
   "source": [
    "r=12/2 # radius\n",
    "V = 4/3 * 3.14 * r**3\n",
    "V"
   ]
  },
  {
   "cell_type": "code",
   "execution_count": 9,
   "metadata": {},
   "outputs": [],
   "source": [
    "# Q 4\n",
    "# Write a program which accepts a sequence of comma-separated numbers from console and\n",
    "# generate a list."
   ]
  },
  {
   "cell_type": "code",
   "execution_count": 10,
   "metadata": {},
   "outputs": [
    {
     "name": "stdin",
     "output_type": "stream",
     "text": [
      "Enter any sequence of comma separated numbers: 2,3,4,6,8,1\n"
     ]
    },
    {
     "name": "stdout",
     "output_type": "stream",
     "text": [
      "[2, 3, 4, 6, 8, 1]\n"
     ]
    }
   ],
   "source": [
    "y = []\n",
    "x = input(\"Enter any sequence of comma separated numbers:\")\n",
    "for val in x:\n",
    "    if val != ',' and val != ' ':\n",
    "        y.append(int(val))\n",
    "print(y)"
   ]
  },
  {
   "cell_type": "code",
   "execution_count": 11,
   "metadata": {},
   "outputs": [],
   "source": [
    "# Q 5\n",
    "# Create the below pattern using nested for loop in Python.\n",
    "# *\n",
    "# * *\n",
    "# * * *\n",
    "# * * * *\n",
    "# * * * * *\n",
    "# * * * *\n",
    "# * * *\n",
    "# * *\n",
    "# *"
   ]
  },
  {
   "cell_type": "code",
   "execution_count": 12,
   "metadata": {},
   "outputs": [
    {
     "name": "stdout",
     "output_type": "stream",
     "text": [
      "*\n",
      "**\n",
      "***\n",
      "****\n",
      "*****\n",
      "****\n",
      "***\n",
      "**\n",
      "*\n"
     ]
    }
   ],
   "source": [
    "for i in range(1,6):\n",
    "    if i !=5:\n",
    "        print('*'*(i))\n",
    "    else:\n",
    "        for j in range(5):\n",
    "            print('*'*(i-j))"
   ]
  },
  {
   "cell_type": "code",
   "execution_count": 13,
   "metadata": {},
   "outputs": [],
   "source": [
    "# Q 6\n",
    "# Write a Python program to reverse a word after accepting the input from the user.\n",
    "# Sample Output:\n",
    "# Input word: England\n",
    "# Output: dnalgnE"
   ]
  },
  {
   "cell_type": "code",
   "execution_count": 14,
   "metadata": {},
   "outputs": [
    {
     "name": "stdin",
     "output_type": "stream",
     "text": [
      "Enter any word here: England\n"
     ]
    },
    {
     "name": "stdout",
     "output_type": "stream",
     "text": [
      "dnalgnE\n"
     ]
    }
   ],
   "source": [
    "word = input(\"Enter any word here:\")\n",
    "print(word[::-1])"
   ]
  },
  {
   "cell_type": "code",
   "execution_count": 15,
   "metadata": {},
   "outputs": [],
   "source": [
    "# Q 7\n",
    "# Write a Python Program to print the given string in the format specified in the sample output.\n",
    "# WE, THE PEOPLE OF INDIA, having solemnly resolved to constitute India into a\n",
    "# SOVEREIGN, SOCIALIST, SECULAR, DEMOCRATIC REPUBLIC and to secure to all\n",
    "# its citizens\n",
    "# Sample Output:\n",
    "# WE, THE PEOPLE OF INDIA,\n",
    "#       having solemnly resolved to constitute India into a SOVEREIGN, !\n",
    "#              SOCIALIST, SECULAR, DEMOCRATIC REPUBLIC\n",
    "#               and to secure to all its citizens"
   ]
  },
  {
   "cell_type": "code",
   "execution_count": 16,
   "metadata": {},
   "outputs": [
    {
     "name": "stdout",
     "output_type": "stream",
     "text": [
      "WE, THE PEOPLE OF INDIA,\n",
      "      having solemnly resolved to constitute India into a SOVEREIGN, !\n",
      "\t     SOCIALIST, SECULAR, DEMOCRATIC REPUBLIC\n",
      "\t      and to secure to all its citizens\n"
     ]
    }
   ],
   "source": [
    "p=\"\"\"WE, THE PEOPLE OF INDIA, having solemnly resolved to constitute India into a\n",
    "SOVEREIGN, SOCIALIST, SECULAR, DEMOCRATIC REPUBLIC and to secure to all\n",
    "its citizens\"\"\"\n",
    "q=p.split(',')\n",
    "q2=q[2].split(\"\\n\")\n",
    "q5=q[5].split()\n",
    "print(q[0].strip() + ',' + q[1] + ',' + \"\\n     \" + q2[0] + ' '\n",
    "      + q2[1].strip() + ', !' + \"\\n\\t    \" + q[3] + ',' + q[4] + ', ' + q5[0] + ' ' \n",
    "      + q5[1] + \"\\n\\t      \" + ' '.join(q5[2:]))"
   ]
  },
  {
   "cell_type": "code",
   "execution_count": null,
   "metadata": {},
   "outputs": [],
   "source": []
  }
 ],
 "metadata": {
  "kernelspec": {
   "display_name": "Python 3",
   "language": "python",
   "name": "python3"
  },
  "language_info": {
   "codemirror_mode": {
    "name": "ipython",
    "version": 3
   },
   "file_extension": ".py",
   "mimetype": "text/x-python",
   "name": "python",
   "nbconvert_exporter": "python",
   "pygments_lexer": "ipython3",
   "version": "3.7.1"
  }
 },
 "nbformat": 4,
 "nbformat_minor": 2
}
